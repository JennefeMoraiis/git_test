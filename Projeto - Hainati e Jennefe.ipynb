{
 "cells": [
  {
   "cell_type": "code",
   "execution_count": 0,
   "metadata": {
    "application/vnd.databricks.v1+cell": {
     "cellMetadata": {
      "byteLimit": 2048000,
      "rowLimit": 10000
     },
     "inputWidgets": {},
     "nuid": "5eb03625-9481-4b14-bb0d-259d12ea3bca",
     "showTitle": false,
     "title": ""
    }
   },
   "outputs": [
    {
     "output_type": "stream",
     "name": "stdout",
     "output_type": "stream",
     "text": [
      "Média dos resultados: 7.029\nLançamento máximo: 12\nLançamento mínimo: 2\nNúmero de vezes que cada possível lançamento ocorreu:\nLançamento 2: 26 vezes\nLançamento 3: 41 vezes\nLançamento 4: 99 vezes\nLançamento 5: 120 vezes\nLançamento 6: 140 vezes\nLançamento 7: 156 vezes\nLançamento 8: 131 vezes\nLançamento 9: 117 vezes\nLançamento 10: 79 vezes\nLançamento 11: 57 vezes\nLançamento 12: 34 vezes\n"
     ]
    }
   ],
   "source": [
    "import numpy as np\n",
    "\n",
    "def lancamento():\n",
    "    dado_x = np.random.randint(1, 7)  # Valor aleatório entre 1 e 6 para o primeiro dado\n",
    "    dado_y = np.random.randint(1, 7)  # Valor aleatório entre 1 e 6 para o segundo dado\n",
    "    return dado_x + dado_y\n",
    "\n",
    "resultado = np.array([lancamento() for _ in range(1000)])\n",
    "\n",
    "# Média dos resultados\n",
    "media = np.mean(resultado)\n",
    "\n",
    "# Mínimo e máximo dos resultados\n",
    "minimo = np.min(resultado)\n",
    "maximo = np.max(resultado)\n",
    "\n",
    "# Contagem de ocorrências de cada possível lançamento (2 a 12)\n",
    "contagem_lancamentos = np.bincount(resultado)[2:]\n",
    "\n",
    "# Imprimir os resultados\n",
    "print(\"Média dos resultados:\", media)\n",
    "print(\"Lançamento máximo:\", maximo)\n",
    "print(\"Lançamento mínimo:\", minimo)\n",
    "print(\"Número de vezes que cada possível lançamento ocorreu:\")\n",
    "for i, count in enumerate(contagem_lancamentos, start=2):\n",
    "    print(f\"Lançamento {i}: {count} vezes\")"
   ]
  },
  {
   "cell_type": "code",
   "execution_count": 0,
   "metadata": {
    "application/vnd.databricks.v1+cell": {
     "cellMetadata": {},
     "inputWidgets": {},
     "nuid": "2e332233-d549-457c-9731-dfe441e97d18",
     "showTitle": false,
     "title": ""
    }
   },
   "outputs": [],
   "source": []
  },
  {
   "cell_type": "code",
   "execution_count": 0,
   "metadata": {
    "application/vnd.databricks.v1+cell": {
     "cellMetadata": {},
     "inputWidgets": {},
     "nuid": "7e29c207-728f-40c7-b722-c8b7fc6929f3",
     "showTitle": false,
     "title": ""
    }
   },
   "outputs": [],
   "source": []
  }
 ],
 "metadata": {
  "application/vnd.databricks.v1+notebook": {
   "dashboards": [],
   "language": "python",
   "notebookMetadata": {
    "pythonIndentUnit": 4
   },
   "notebookName": "Projeto - Hainati e Jennefe",
   "widgets": {}
  }
 },
 "nbformat": 4,
 "nbformat_minor": 0
}
